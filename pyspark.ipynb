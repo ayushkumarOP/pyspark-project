{
  "nbformat": 4,
  "nbformat_minor": 0,
  "metadata": {
    "colab": {
      "provenance": []
    },
    "kernelspec": {
      "name": "python3",
      "display_name": "Python 3"
    },
    "language_info": {
      "name": "python"
    }
  },
  "cells": [
    {
      "cell_type": "code",
      "execution_count": null,
      "metadata": {
        "colab": {
          "base_uri": "https://localhost:8080/"
        },
        "id": "WXaC82w4Zt2L",
        "outputId": "b5416dc1-13a0-49ca-8dc7-87ebf35ad6b4"
      },
      "outputs": [
        {
          "output_type": "stream",
          "name": "stdout",
          "text": [
            "Collecting pyspark\n",
            "  Downloading pyspark-3.5.1.tar.gz (317.0 MB)\n",
            "\u001b[2K     \u001b[90m━━━━━━━━━━━━━━━━━━━━━━━━━━━━━━━━━━━━━━━━\u001b[0m \u001b[32m317.0/317.0 MB\u001b[0m \u001b[31m3.8 MB/s\u001b[0m eta \u001b[36m0:00:00\u001b[0m\n",
            "\u001b[?25h  Preparing metadata (setup.py) ... \u001b[?25l\u001b[?25hdone\n",
            "Requirement already satisfied: py4j==0.10.9.7 in /usr/local/lib/python3.10/dist-packages (from pyspark) (0.10.9.7)\n",
            "Building wheels for collected packages: pyspark\n",
            "  Building wheel for pyspark (setup.py) ... \u001b[?25l\u001b[?25hdone\n",
            "  Created wheel for pyspark: filename=pyspark-3.5.1-py2.py3-none-any.whl size=317488491 sha256=76b4819b56bb8c3090fe43ff9508c6cae7936e0f21ddca1625b085bb1476b9b0\n",
            "  Stored in directory: /root/.cache/pip/wheels/80/1d/60/2c256ed38dddce2fdd93be545214a63e02fbd8d74fb0b7f3a6\n",
            "Successfully built pyspark\n",
            "Installing collected packages: pyspark\n",
            "Successfully installed pyspark-3.5.1\n"
          ]
        }
      ],
      "source": [
        "pip install pyspark"
      ]
    },
    {
      "cell_type": "code",
      "source": [
        "import pyspark"
      ],
      "metadata": {
        "id": "TZZPIdMeZ3JU"
      },
      "execution_count": null,
      "outputs": []
    },
    {
      "cell_type": "code",
      "source": [
        "from pyspark.sql import SparkSession"
      ],
      "metadata": {
        "id": "INxWOje9Z3Qw"
      },
      "execution_count": null,
      "outputs": []
    },
    {
      "cell_type": "code",
      "source": [
        "spark=SparkSession.builder.appName('Practise').getOrCreate()"
      ],
      "metadata": {
        "id": "lYCZs3qMZ3VK"
      },
      "execution_count": null,
      "outputs": []
    },
    {
      "cell_type": "code",
      "source": [
        "spark"
      ],
      "metadata": {
        "colab": {
          "base_uri": "https://localhost:8080/",
          "height": 221
        },
        "id": "96_BtQMIZ-JR",
        "outputId": "fe09a208-ebf6-433e-fbff-7986c83634a9"
      },
      "execution_count": null,
      "outputs": [
        {
          "output_type": "execute_result",
          "data": {
            "text/plain": [
              "<pyspark.sql.session.SparkSession at 0x79bc5c0a9e40>"
            ],
            "text/html": [
              "\n",
              "            <div>\n",
              "                <p><b>SparkSession - in-memory</b></p>\n",
              "                \n",
              "        <div>\n",
              "            <p><b>SparkContext</b></p>\n",
              "\n",
              "            <p><a href=\"http://9c74094c2134:4040\">Spark UI</a></p>\n",
              "\n",
              "            <dl>\n",
              "              <dt>Version</dt>\n",
              "                <dd><code>v3.5.1</code></dd>\n",
              "              <dt>Master</dt>\n",
              "                <dd><code>local[*]</code></dd>\n",
              "              <dt>AppName</dt>\n",
              "                <dd><code>Practise</code></dd>\n",
              "            </dl>\n",
              "        </div>\n",
              "        \n",
              "            </div>\n",
              "        "
            ]
          },
          "metadata": {},
          "execution_count": 7
        }
      ]
    },
    {
      "cell_type": "code",
      "source": [
        "df_pyspark=spark.read.csv('sales_data.csv',header=True,inferSchema=True)"
      ],
      "metadata": {
        "id": "RPORMAzyZ-Oe"
      },
      "execution_count": null,
      "outputs": []
    },
    {
      "cell_type": "code",
      "source": [
        "df_pyspark.show()"
      ],
      "metadata": {
        "colab": {
          "base_uri": "https://localhost:8080/"
        },
        "id": "RzRLYU3SZ-Vx",
        "outputId": "abdbf1e0-77c8-462a-a1fd-e0ced5d3f825"
      },
      "execution_count": null,
      "outputs": [
        {
          "output_type": "stream",
          "name": "stdout",
          "text": [
            "+--------------------+----------+---------------+-------------+--------------+----------+---------+----------+----------+----------+---------+\n",
            "|              Region|   Country|      Item Type|Sales Channel|Order Priority|Order Date| Order ID| Ship Date|Units Sold|Unit Price|Unit Cost|\n",
            "+--------------------+----------+---------------+-------------+--------------+----------+---------+----------+----------+----------+---------+\n",
            "|Middle East and N...|      NULL|      Cosmetics|      Offline|             M|10/18/2014|686800706|10/31/2014|      8446|     437.2|   263.33|\n",
            "|       North America|    Canada|     Vegetables|       Online|             M| 11/7/2011|185941302| 12/8/2011|      NULL|    154.06|    90.93|\n",
            "|Middle East and N...|     Libya|      Baby Food|      Offline|             C|10/31/2016|246222341| 12/9/2016|      1517|      NULL|   159.42|\n",
            "|                Asia|     Japan|         Cereal|      Offline|             C| 4/10/2010|161442649| 5/12/2010|      3322|     205.7|     NULL|\n",
            "|  Sub-Saharan Africa|      Chad|         Fruits|      Offline|             H| 8/16/2011|645713555| 8/31/2011|      9845|      9.33|     6.92|\n",
            "|              Europe|   Armenia|         Cereal|       Online|             H|11/24/2014|683458888|12/28/2014|      9528|     205.7|   117.11|\n",
            "|  Sub-Saharan Africa|   Eritrea|         Cereal|       Online|             H|  3/4/2015|679414975| 4/17/2015|      2844|      NULL|   117.11|\n",
            "|              Europe|Montenegro|        Clothes|      Offline|             M| 5/17/2012|208630645| 6/28/2012|      7299|      NULL|    35.84|\n",
            "|Central America a...|      NULL|     Vegetables|       Online|             H| 1/29/2015|266467225|  3/7/2015|      2428|    154.06|    90.93|\n",
            "|Australia and Oce...|      Fiji|     Vegetables|      Offline|             H|12/24/2013|118598544| 1/19/2014|      4800|      NULL|    90.93|\n",
            "|  Sub-Saharan Africa|      NULL|        Clothes|       Online|             M|12/29/2015|451010930| 1/19/2016|      3012|    109.28|     NULL|\n",
            "|              Europe|Montenegro|         Snacks|      Offline|             M| 2/27/2010|220003211| 3/18/2010|      2694|    152.58|     NULL|\n",
            "|              Europe|      NULL|      Household|       Online|             C|11/17/2016|702186715|12/22/2016|      1508|    668.27|     NULL|\n",
            "|  Sub-Saharan Africa|     Sudan|      Cosmetics|       Online|             C|12/20/2015|544485270|  1/5/2016|      4146|     437.2|   263.33|\n",
            "|                Asia|  Maldives|         Fruits|      Offline|             L|  1/8/2011|714135205|  2/6/2011|      7332|      NULL|     6.92|\n",
            "|              Europe|Montenegro|        Clothes|      Offline|             H| 6/28/2010|448685348| 7/22/2010|      4820|      NULL|     NULL|\n",
            "|              Europe|      NULL|Office Supplies|       Online|             H| 4/25/2016|405997025| 5/12/2016|      2397|    651.21|   524.96|\n",
            "|       North America| Greenland|      Beverages|       Online|             M| 7/27/2012|414244067|  8/7/2012|      2880|     47.45|    31.79|\n",
            "|  Sub-Saharan Africa|Cape Verde|        Clothes|       Online|             C|  9/8/2014|821912801| 10/3/2014|      NULL|    109.28|    35.84|\n",
            "|  Sub-Saharan Africa|   Senegal|      Household|      Offline|             L| 8/27/2012|247802054|  9/8/2012|      8989|    668.27|   502.54|\n",
            "+--------------------+----------+---------------+-------------+--------------+----------+---------+----------+----------+----------+---------+\n",
            "only showing top 20 rows\n",
            "\n"
          ]
        }
      ]
    },
    {
      "cell_type": "code",
      "source": [
        "df_pyspark=df_pyspark.na.drop(how=\"any\",subset=['Country'])"
      ],
      "metadata": {
        "id": "uhWa1oUlaRVo"
      },
      "execution_count": null,
      "outputs": []
    },
    {
      "cell_type": "code",
      "source": [
        "df_pyspark.show()"
      ],
      "metadata": {
        "colab": {
          "base_uri": "https://localhost:8080/"
        },
        "id": "sVtmwPL8aRX8",
        "outputId": "0854c83b-b031-4370-a08d-249bed522d9a"
      },
      "execution_count": null,
      "outputs": [
        {
          "output_type": "stream",
          "name": "stdout",
          "text": [
            "+--------------------+--------------------+----------+-------------+--------------+----------+---------+----------+----------+----------+---------+\n",
            "|              Region|             Country| Item Type|Sales Channel|Order Priority|Order Date| Order ID| Ship Date|Units Sold|Unit Price|Unit Cost|\n",
            "+--------------------+--------------------+----------+-------------+--------------+----------+---------+----------+----------+----------+---------+\n",
            "|       North America|              Canada|Vegetables|       Online|             M| 11/7/2011|185941302| 12/8/2011|      NULL|    154.06|    90.93|\n",
            "|Middle East and N...|               Libya| Baby Food|      Offline|             C|10/31/2016|246222341| 12/9/2016|      1517|      NULL|   159.42|\n",
            "|                Asia|               Japan|    Cereal|      Offline|             C| 4/10/2010|161442649| 5/12/2010|      3322|     205.7|     NULL|\n",
            "|  Sub-Saharan Africa|                Chad|    Fruits|      Offline|             H| 8/16/2011|645713555| 8/31/2011|      9845|      9.33|     6.92|\n",
            "|              Europe|             Armenia|    Cereal|       Online|             H|11/24/2014|683458888|12/28/2014|      9528|     205.7|   117.11|\n",
            "|  Sub-Saharan Africa|             Eritrea|    Cereal|       Online|             H|  3/4/2015|679414975| 4/17/2015|      2844|      NULL|   117.11|\n",
            "|              Europe|          Montenegro|   Clothes|      Offline|             M| 5/17/2012|208630645| 6/28/2012|      7299|      NULL|    35.84|\n",
            "|Australia and Oce...|                Fiji|Vegetables|      Offline|             H|12/24/2013|118598544| 1/19/2014|      4800|      NULL|    90.93|\n",
            "|              Europe|          Montenegro|    Snacks|      Offline|             M| 2/27/2010|220003211| 3/18/2010|      2694|    152.58|     NULL|\n",
            "|  Sub-Saharan Africa|               Sudan| Cosmetics|       Online|             C|12/20/2015|544485270|  1/5/2016|      4146|     437.2|   263.33|\n",
            "|                Asia|            Maldives|    Fruits|      Offline|             L|  1/8/2011|714135205|  2/6/2011|      7332|      NULL|     6.92|\n",
            "|              Europe|          Montenegro|   Clothes|      Offline|             H| 6/28/2010|448685348| 7/22/2010|      4820|      NULL|     NULL|\n",
            "|       North America|           Greenland| Beverages|       Online|             M| 7/27/2012|414244067|  8/7/2012|      2880|     47.45|    31.79|\n",
            "|  Sub-Saharan Africa|          Cape Verde|   Clothes|       Online|             C|  9/8/2014|821912801| 10/3/2014|      NULL|    109.28|    35.84|\n",
            "|  Sub-Saharan Africa|             Senegal| Household|      Offline|             L| 8/27/2012|247802054|  9/8/2012|      8989|    668.27|   502.54|\n",
            "|Australia and Oce...|Federated States ...|    Snacks|       Online|             C|  9/3/2012|531023156|10/15/2012|       407|    152.58|    97.44|\n",
            "|                Asia|            Mongolia|   Clothes|       Online|             L|12/12/2015|770478332| 1/24/2016|       515|    109.28|    35.84|\n",
            "|Central America a...|             Grenada|    Cereal|       Online|             H|10/28/2012|430390107|11/13/2012|       852|     205.7|   117.11|\n",
            "|  Sub-Saharan Africa|             Senegal| Beverages|      Offline|             M|10/22/2014|683927953| 11/4/2014|      NULL|     47.45|     NULL|\n",
            "|       North America|           Greenland|    Fruits|      Offline|             M| 1/31/2012|469839179| 2/22/2012|      4709|      NULL|     6.92|\n",
            "+--------------------+--------------------+----------+-------------+--------------+----------+---------+----------+----------+----------+---------+\n",
            "only showing top 20 rows\n",
            "\n"
          ]
        }
      ]
    },
    {
      "cell_type": "code",
      "source": [
        "from pyspark.ml.feature import Imputer\n",
        "\n",
        "imputer = Imputer(\n",
        "    inputCols=['Units Sold','Unit Price', 'Unit Cost'],\n",
        "    outputCols=[\"{}_imputed\".format(c) for c in ['Units Sold','Unit Price', 'Unit Cost']]\n",
        "    ).setStrategy(\"median\")"
      ],
      "metadata": {
        "id": "6ONiw626aRaT"
      },
      "execution_count": null,
      "outputs": []
    },
    {
      "cell_type": "code",
      "source": [
        "imputed_df = imputer.fit(df_pyspark).transform(df_pyspark)\n",
        "imputed_df.show()"
      ],
      "metadata": {
        "colab": {
          "base_uri": "https://localhost:8080/"
        },
        "id": "4LBfb2zbaRjO",
        "outputId": "728c1b5c-20e2-4d53-c33b-de81bc457021"
      },
      "execution_count": null,
      "outputs": [
        {
          "output_type": "stream",
          "name": "stdout",
          "text": [
            "+--------------------+--------------------+----------+-------------+--------------+----------+---------+----------+----------+----------+---------+------------------+------------------+-----------------+\n",
            "|              Region|             Country| Item Type|Sales Channel|Order Priority|Order Date| Order ID| Ship Date|Units Sold|Unit Price|Unit Cost|Units Sold_imputed|Unit Price_imputed|Unit Cost_imputed|\n",
            "+--------------------+--------------------+----------+-------------+--------------+----------+---------+----------+----------+----------+---------+------------------+------------------+-----------------+\n",
            "|       North America|              Canada|Vegetables|       Online|             M| 11/7/2011|185941302| 12/8/2011|      NULL|    154.06|    90.93|              5006|            154.06|            90.93|\n",
            "|Middle East and N...|               Libya| Baby Food|      Offline|             C|10/31/2016|246222341| 12/9/2016|      1517|      NULL|   159.42|              1517|            154.06|           159.42|\n",
            "|                Asia|               Japan|    Cereal|      Offline|             C| 4/10/2010|161442649| 5/12/2010|      3322|     205.7|     NULL|              3322|             205.7|            97.44|\n",
            "|  Sub-Saharan Africa|                Chad|    Fruits|      Offline|             H| 8/16/2011|645713555| 8/31/2011|      9845|      9.33|     6.92|              9845|              9.33|             6.92|\n",
            "|              Europe|             Armenia|    Cereal|       Online|             H|11/24/2014|683458888|12/28/2014|      9528|     205.7|   117.11|              9528|             205.7|           117.11|\n",
            "|  Sub-Saharan Africa|             Eritrea|    Cereal|       Online|             H|  3/4/2015|679414975| 4/17/2015|      2844|      NULL|   117.11|              2844|            154.06|           117.11|\n",
            "|              Europe|          Montenegro|   Clothes|      Offline|             M| 5/17/2012|208630645| 6/28/2012|      7299|      NULL|    35.84|              7299|            154.06|            35.84|\n",
            "|Australia and Oce...|                Fiji|Vegetables|      Offline|             H|12/24/2013|118598544| 1/19/2014|      4800|      NULL|    90.93|              4800|            154.06|            90.93|\n",
            "|              Europe|          Montenegro|    Snacks|      Offline|             M| 2/27/2010|220003211| 3/18/2010|      2694|    152.58|     NULL|              2694|            152.58|            97.44|\n",
            "|  Sub-Saharan Africa|               Sudan| Cosmetics|       Online|             C|12/20/2015|544485270|  1/5/2016|      4146|     437.2|   263.33|              4146|             437.2|           263.33|\n",
            "|                Asia|            Maldives|    Fruits|      Offline|             L|  1/8/2011|714135205|  2/6/2011|      7332|      NULL|     6.92|              7332|            154.06|             6.92|\n",
            "|              Europe|          Montenegro|   Clothes|      Offline|             H| 6/28/2010|448685348| 7/22/2010|      4820|      NULL|     NULL|              4820|            154.06|            97.44|\n",
            "|       North America|           Greenland| Beverages|       Online|             M| 7/27/2012|414244067|  8/7/2012|      2880|     47.45|    31.79|              2880|             47.45|            31.79|\n",
            "|  Sub-Saharan Africa|          Cape Verde|   Clothes|       Online|             C|  9/8/2014|821912801| 10/3/2014|      NULL|    109.28|    35.84|              5006|            109.28|            35.84|\n",
            "|  Sub-Saharan Africa|             Senegal| Household|      Offline|             L| 8/27/2012|247802054|  9/8/2012|      8989|    668.27|   502.54|              8989|            668.27|           502.54|\n",
            "|Australia and Oce...|Federated States ...|    Snacks|       Online|             C|  9/3/2012|531023156|10/15/2012|       407|    152.58|    97.44|               407|            152.58|            97.44|\n",
            "|                Asia|            Mongolia|   Clothes|       Online|             L|12/12/2015|770478332| 1/24/2016|       515|    109.28|    35.84|               515|            109.28|            35.84|\n",
            "|Central America a...|             Grenada|    Cereal|       Online|             H|10/28/2012|430390107|11/13/2012|       852|     205.7|   117.11|               852|             205.7|           117.11|\n",
            "|  Sub-Saharan Africa|             Senegal| Beverages|      Offline|             M|10/22/2014|683927953| 11/4/2014|      NULL|     47.45|     NULL|              5006|             47.45|            97.44|\n",
            "|       North America|           Greenland|    Fruits|      Offline|             M| 1/31/2012|469839179| 2/22/2012|      4709|      NULL|     6.92|              4709|            154.06|             6.92|\n",
            "+--------------------+--------------------+----------+-------------+--------------+----------+---------+----------+----------+----------+---------+------------------+------------------+-----------------+\n",
            "only showing top 20 rows\n",
            "\n"
          ]
        }
      ]
    },
    {
      "cell_type": "code",
      "source": [
        "columns_to_drop = ['Units Sold', 'Unit Price', 'Unit Cost']\n",
        "imputed_df = imputed_df.drop(*columns_to_drop)\n",
        "\n",
        "imputed_df.show()"
      ],
      "metadata": {
        "colab": {
          "base_uri": "https://localhost:8080/"
        },
        "id": "YgFpmZltZ3Yr",
        "outputId": "847b80e6-1e63-4b42-9955-061de4aa9c86"
      },
      "execution_count": null,
      "outputs": [
        {
          "output_type": "stream",
          "name": "stdout",
          "text": [
            "+--------------------+--------------------+----------+-------------+--------------+----------+---------+----------+------------------+------------------+-----------------+\n",
            "|              Region|             Country| Item Type|Sales Channel|Order Priority|Order Date| Order ID| Ship Date|Units Sold_imputed|Unit Price_imputed|Unit Cost_imputed|\n",
            "+--------------------+--------------------+----------+-------------+--------------+----------+---------+----------+------------------+------------------+-----------------+\n",
            "|       North America|              Canada|Vegetables|       Online|             M| 11/7/2011|185941302| 12/8/2011|              5006|            154.06|            90.93|\n",
            "|Middle East and N...|               Libya| Baby Food|      Offline|             C|10/31/2016|246222341| 12/9/2016|              1517|            154.06|           159.42|\n",
            "|                Asia|               Japan|    Cereal|      Offline|             C| 4/10/2010|161442649| 5/12/2010|              3322|             205.7|            97.44|\n",
            "|  Sub-Saharan Africa|                Chad|    Fruits|      Offline|             H| 8/16/2011|645713555| 8/31/2011|              9845|              9.33|             6.92|\n",
            "|              Europe|             Armenia|    Cereal|       Online|             H|11/24/2014|683458888|12/28/2014|              9528|             205.7|           117.11|\n",
            "|  Sub-Saharan Africa|             Eritrea|    Cereal|       Online|             H|  3/4/2015|679414975| 4/17/2015|              2844|            154.06|           117.11|\n",
            "|              Europe|          Montenegro|   Clothes|      Offline|             M| 5/17/2012|208630645| 6/28/2012|              7299|            154.06|            35.84|\n",
            "|Australia and Oce...|                Fiji|Vegetables|      Offline|             H|12/24/2013|118598544| 1/19/2014|              4800|            154.06|            90.93|\n",
            "|              Europe|          Montenegro|    Snacks|      Offline|             M| 2/27/2010|220003211| 3/18/2010|              2694|            152.58|            97.44|\n",
            "|  Sub-Saharan Africa|               Sudan| Cosmetics|       Online|             C|12/20/2015|544485270|  1/5/2016|              4146|             437.2|           263.33|\n",
            "|                Asia|            Maldives|    Fruits|      Offline|             L|  1/8/2011|714135205|  2/6/2011|              7332|            154.06|             6.92|\n",
            "|              Europe|          Montenegro|   Clothes|      Offline|             H| 6/28/2010|448685348| 7/22/2010|              4820|            154.06|            97.44|\n",
            "|       North America|           Greenland| Beverages|       Online|             M| 7/27/2012|414244067|  8/7/2012|              2880|             47.45|            31.79|\n",
            "|  Sub-Saharan Africa|          Cape Verde|   Clothes|       Online|             C|  9/8/2014|821912801| 10/3/2014|              5006|            109.28|            35.84|\n",
            "|  Sub-Saharan Africa|             Senegal| Household|      Offline|             L| 8/27/2012|247802054|  9/8/2012|              8989|            668.27|           502.54|\n",
            "|Australia and Oce...|Federated States ...|    Snacks|       Online|             C|  9/3/2012|531023156|10/15/2012|               407|            152.58|            97.44|\n",
            "|                Asia|            Mongolia|   Clothes|       Online|             L|12/12/2015|770478332| 1/24/2016|               515|            109.28|            35.84|\n",
            "|Central America a...|             Grenada|    Cereal|       Online|             H|10/28/2012|430390107|11/13/2012|               852|             205.7|           117.11|\n",
            "|  Sub-Saharan Africa|             Senegal| Beverages|      Offline|             M|10/22/2014|683927953| 11/4/2014|              5006|             47.45|            97.44|\n",
            "|       North America|           Greenland|    Fruits|      Offline|             M| 1/31/2012|469839179| 2/22/2012|              4709|            154.06|             6.92|\n",
            "+--------------------+--------------------+----------+-------------+--------------+----------+---------+----------+------------------+------------------+-----------------+\n",
            "only showing top 20 rows\n",
            "\n"
          ]
        }
      ]
    },
    {
      "cell_type": "code",
      "source": [
        "from pyspark.sql.functions import col, format_number,sum,lit,round\n",
        "from pyspark.sql.types import DoubleType\n",
        "\n",
        "df = imputed_df.withColumn(\"Total_Cost\", col(\"Units Sold_imputed\") * col(\"Unit Cost_imputed\"))\n",
        "df = df.withColumn(\"Total_Cost\", round(col(\"Total_Cost\"), 2))"
      ],
      "metadata": {
        "id": "I8HGDQXhbXXe"
      },
      "execution_count": null,
      "outputs": []
    },
    {
      "cell_type": "code",
      "source": [
        "df.show()"
      ],
      "metadata": {
        "colab": {
          "base_uri": "https://localhost:8080/"
        },
        "id": "r3s-d4fEbXfR",
        "outputId": "c87a79c7-6f99-475d-d7d1-6243d247e10c"
      },
      "execution_count": null,
      "outputs": [
        {
          "output_type": "stream",
          "name": "stdout",
          "text": [
            "+--------------------+--------------------+----------+-------------+--------------+----------+---------+----------+------------------+------------------+-----------------+----------+\n",
            "|              Region|             Country| Item Type|Sales Channel|Order Priority|Order Date| Order ID| Ship Date|Units Sold_imputed|Unit Price_imputed|Unit Cost_imputed|Total_Cost|\n",
            "+--------------------+--------------------+----------+-------------+--------------+----------+---------+----------+------------------+------------------+-----------------+----------+\n",
            "|       North America|              Canada|Vegetables|       Online|             M| 11/7/2011|185941302| 12/8/2011|              5006|            154.06|            90.93| 455195.58|\n",
            "|Middle East and N...|               Libya| Baby Food|      Offline|             C|10/31/2016|246222341| 12/9/2016|              1517|            154.06|           159.42| 241840.14|\n",
            "|                Asia|               Japan|    Cereal|      Offline|             C| 4/10/2010|161442649| 5/12/2010|              3322|             205.7|            97.44| 323695.68|\n",
            "|  Sub-Saharan Africa|                Chad|    Fruits|      Offline|             H| 8/16/2011|645713555| 8/31/2011|              9845|              9.33|             6.92|   68127.4|\n",
            "|              Europe|             Armenia|    Cereal|       Online|             H|11/24/2014|683458888|12/28/2014|              9528|             205.7|           117.11|1115824.08|\n",
            "|  Sub-Saharan Africa|             Eritrea|    Cereal|       Online|             H|  3/4/2015|679414975| 4/17/2015|              2844|            154.06|           117.11| 333060.84|\n",
            "|              Europe|          Montenegro|   Clothes|      Offline|             M| 5/17/2012|208630645| 6/28/2012|              7299|            154.06|            35.84| 261596.16|\n",
            "|Australia and Oce...|                Fiji|Vegetables|      Offline|             H|12/24/2013|118598544| 1/19/2014|              4800|            154.06|            90.93|  436464.0|\n",
            "|              Europe|          Montenegro|    Snacks|      Offline|             M| 2/27/2010|220003211| 3/18/2010|              2694|            152.58|            97.44| 262503.36|\n",
            "|  Sub-Saharan Africa|               Sudan| Cosmetics|       Online|             C|12/20/2015|544485270|  1/5/2016|              4146|             437.2|           263.33|1091766.18|\n",
            "|                Asia|            Maldives|    Fruits|      Offline|             L|  1/8/2011|714135205|  2/6/2011|              7332|            154.06|             6.92|  50737.44|\n",
            "|              Europe|          Montenegro|   Clothes|      Offline|             H| 6/28/2010|448685348| 7/22/2010|              4820|            154.06|            97.44|  469660.8|\n",
            "|       North America|           Greenland| Beverages|       Online|             M| 7/27/2012|414244067|  8/7/2012|              2880|             47.45|            31.79|   91555.2|\n",
            "|  Sub-Saharan Africa|          Cape Verde|   Clothes|       Online|             C|  9/8/2014|821912801| 10/3/2014|              5006|            109.28|            35.84| 179415.04|\n",
            "|  Sub-Saharan Africa|             Senegal| Household|      Offline|             L| 8/27/2012|247802054|  9/8/2012|              8989|            668.27|           502.54|4517332.06|\n",
            "|Australia and Oce...|Federated States ...|    Snacks|       Online|             C|  9/3/2012|531023156|10/15/2012|               407|            152.58|            97.44|  39658.08|\n",
            "|                Asia|            Mongolia|   Clothes|       Online|             L|12/12/2015|770478332| 1/24/2016|               515|            109.28|            35.84|   18457.6|\n",
            "|Central America a...|             Grenada|    Cereal|       Online|             H|10/28/2012|430390107|11/13/2012|               852|             205.7|           117.11|  99777.72|\n",
            "|  Sub-Saharan Africa|             Senegal| Beverages|      Offline|             M|10/22/2014|683927953| 11/4/2014|              5006|             47.45|            97.44| 487784.64|\n",
            "|       North America|           Greenland|    Fruits|      Offline|             M| 1/31/2012|469839179| 2/22/2012|              4709|            154.06|             6.92|  32586.28|\n",
            "+--------------------+--------------------+----------+-------------+--------------+----------+---------+----------+------------------+------------------+-----------------+----------+\n",
            "only showing top 20 rows\n",
            "\n"
          ]
        }
      ]
    },
    {
      "cell_type": "code",
      "source": [
        "df = df.withColumn(\"Total_Revenue\", col(\"Units Sold_imputed\") * col(\"Unit Price_imputed\"))\n",
        "df = df.withColumn(\"Total_Revenue\", round(col(\"Total_Revenue\"), 2))\n",
        "\n",
        "df = df.withColumn(\"Total_Profit\", col(\"Total_Revenue\") - col(\"Total_Cost\"))\n",
        "df = df.withColumn(\"Total_Profit\", round(col(\"Total_Profit\"), 2))"
      ],
      "metadata": {
        "id": "F5mQc3FIbXnW"
      },
      "execution_count": null,
      "outputs": []
    },
    {
      "cell_type": "code",
      "source": [
        "df.show()"
      ],
      "metadata": {
        "colab": {
          "base_uri": "https://localhost:8080/"
        },
        "id": "8xhBIa7imwoT",
        "outputId": "4b916ec6-e144-4b7c-b700-a5edc22da495"
      },
      "execution_count": null,
      "outputs": [
        {
          "output_type": "stream",
          "name": "stdout",
          "text": [
            "+--------------------+--------------------+----------+-------------+--------------+----------+---------+----------+------------------+------------------+-----------------+----------+-------------+------------+\n",
            "|              Region|             Country| Item Type|Sales Channel|Order Priority|Order Date| Order ID| Ship Date|Units Sold_imputed|Unit Price_imputed|Unit Cost_imputed|Total_Cost|Total_Revenue|Total_Profit|\n",
            "+--------------------+--------------------+----------+-------------+--------------+----------+---------+----------+------------------+------------------+-----------------+----------+-------------+------------+\n",
            "|       North America|              Canada|Vegetables|       Online|             M| 11/7/2011|185941302| 12/8/2011|              5006|            154.06|            90.93| 455195.58|    771224.36|   316028.78|\n",
            "|Middle East and N...|               Libya| Baby Food|      Offline|             C|10/31/2016|246222341| 12/9/2016|              1517|            154.06|           159.42| 241840.14|    233709.02|    -8131.12|\n",
            "|                Asia|               Japan|    Cereal|      Offline|             C| 4/10/2010|161442649| 5/12/2010|              3322|             205.7|            97.44| 323695.68|     683335.4|   359639.72|\n",
            "|  Sub-Saharan Africa|                Chad|    Fruits|      Offline|             H| 8/16/2011|645713555| 8/31/2011|              9845|              9.33|             6.92|   68127.4|     91853.85|    23726.45|\n",
            "|              Europe|             Armenia|    Cereal|       Online|             H|11/24/2014|683458888|12/28/2014|              9528|             205.7|           117.11|1115824.08|    1959909.6|   844085.52|\n",
            "|  Sub-Saharan Africa|             Eritrea|    Cereal|       Online|             H|  3/4/2015|679414975| 4/17/2015|              2844|            154.06|           117.11| 333060.84|    438146.64|    105085.8|\n",
            "|              Europe|          Montenegro|   Clothes|      Offline|             M| 5/17/2012|208630645| 6/28/2012|              7299|            154.06|            35.84| 261596.16|   1124483.94|   862887.78|\n",
            "|Australia and Oce...|                Fiji|Vegetables|      Offline|             H|12/24/2013|118598544| 1/19/2014|              4800|            154.06|            90.93|  436464.0|     739488.0|    303024.0|\n",
            "|              Europe|          Montenegro|    Snacks|      Offline|             M| 2/27/2010|220003211| 3/18/2010|              2694|            152.58|            97.44| 262503.36|    411050.52|   148547.16|\n",
            "|  Sub-Saharan Africa|               Sudan| Cosmetics|       Online|             C|12/20/2015|544485270|  1/5/2016|              4146|             437.2|           263.33|1091766.18|    1812631.2|   720865.02|\n",
            "|                Asia|            Maldives|    Fruits|      Offline|             L|  1/8/2011|714135205|  2/6/2011|              7332|            154.06|             6.92|  50737.44|   1129567.92|  1078830.48|\n",
            "|              Europe|          Montenegro|   Clothes|      Offline|             H| 6/28/2010|448685348| 7/22/2010|              4820|            154.06|            97.44|  469660.8|     742569.2|    272908.4|\n",
            "|       North America|           Greenland| Beverages|       Online|             M| 7/27/2012|414244067|  8/7/2012|              2880|             47.45|            31.79|   91555.2|     136656.0|     45100.8|\n",
            "|  Sub-Saharan Africa|          Cape Verde|   Clothes|       Online|             C|  9/8/2014|821912801| 10/3/2014|              5006|            109.28|            35.84| 179415.04|    547055.68|   367640.64|\n",
            "|  Sub-Saharan Africa|             Senegal| Household|      Offline|             L| 8/27/2012|247802054|  9/8/2012|              8989|            668.27|           502.54|4517332.06|   6007079.03|  1489746.97|\n",
            "|Australia and Oce...|Federated States ...|    Snacks|       Online|             C|  9/3/2012|531023156|10/15/2012|               407|            152.58|            97.44|  39658.08|     62100.06|    22441.98|\n",
            "|                Asia|            Mongolia|   Clothes|       Online|             L|12/12/2015|770478332| 1/24/2016|               515|            109.28|            35.84|   18457.6|      56279.2|     37821.6|\n",
            "|Central America a...|             Grenada|    Cereal|       Online|             H|10/28/2012|430390107|11/13/2012|               852|             205.7|           117.11|  99777.72|     175256.4|    75478.68|\n",
            "|  Sub-Saharan Africa|             Senegal| Beverages|      Offline|             M|10/22/2014|683927953| 11/4/2014|              5006|             47.45|            97.44| 487784.64|     237534.7|  -250249.94|\n",
            "|       North America|           Greenland|    Fruits|      Offline|             M| 1/31/2012|469839179| 2/22/2012|              4709|            154.06|             6.92|  32586.28|    725468.54|   692882.26|\n",
            "+--------------------+--------------------+----------+-------------+--------------+----------+---------+----------+------------------+------------------+-----------------+----------+-------------+------------+\n",
            "only showing top 20 rows\n",
            "\n"
          ]
        }
      ]
    },
    {
      "cell_type": "code",
      "source": [
        "total_cost_by_product = df.groupBy(\"Item Type\") \\\n",
        "    .agg(format_number(sum(col(\"Total_Cost\")), 2).alias(\"Total_Total_Cost\")) \\\n",
        "    .orderBy(\"Item Type\")\n",
        "\n",
        "total_cost_by_product.show()"
      ],
      "metadata": {
        "colab": {
          "base_uri": "https://localhost:8080/"
        },
        "id": "sj1LLG9DtIq8",
        "outputId": "983316d1-9df0-48c9-c367-d1fcd11f0133"
      },
      "execution_count": null,
      "outputs": [
        {
          "output_type": "stream",
          "name": "stdout",
          "text": [
            "+---------------+----------------+\n",
            "|      Item Type|Total_Total_Cost|\n",
            "+---------------+----------------+\n",
            "|      Baby Food|   51,130,537.14|\n",
            "|      Beverages|   17,953,976.03|\n",
            "|         Cereal|   40,170,688.60|\n",
            "|        Clothes|   16,620,121.28|\n",
            "|      Cosmetics|   71,699,199.36|\n",
            "|         Fruits|    5,146,107.12|\n",
            "|      Household|  127,663,742.00|\n",
            "|           Meat|  100,319,529.75|\n",
            "|Office Supplies|  136,188,375.36|\n",
            "|  Personal Care|   22,510,292.58|\n",
            "|         Snacks|   31,457,919.36|\n",
            "|     Vegetables|   32,191,724.46|\n",
            "+---------------+----------------+\n",
            "\n"
          ]
        }
      ]
    },
    {
      "cell_type": "code",
      "source": [
        "total_Revenue_by_product = df.groupBy(\"Item Type\") \\\n",
        "    .agg(format_number(sum(col(\"Total_Revenue\")), 2).alias(\"Total_Revenue_Cost\")) \\\n",
        "    .orderBy(\"Item Type\")\n",
        "\n",
        "total_Revenue_by_product.show()"
      ],
      "metadata": {
        "colab": {
          "base_uri": "https://localhost:8080/"
        },
        "id": "Y2fuZI2OtIxe",
        "outputId": "3c020285-7420-4517-98d1-38aaee2b473e"
      },
      "execution_count": null,
      "outputs": [
        {
          "output_type": "stream",
          "name": "stdout",
          "text": [
            "+---------------+------------------+\n",
            "|      Item Type|Total_Revenue_Cost|\n",
            "+---------------+------------------+\n",
            "|      Baby Food|     80,565,795.50|\n",
            "|      Beverages|     26,519,615.03|\n",
            "|         Cereal|     68,180,278.24|\n",
            "|        Clothes|     37,218,046.20|\n",
            "|      Cosmetics|    122,128,032.54|\n",
            "|         Fruits|     12,514,633.96|\n",
            "|      Household|    157,558,416.93|\n",
            "|           Meat|    124,952,771.15|\n",
            "|Office Supplies|    181,633,529.92|\n",
            "|  Personal Care|     33,603,770.64|\n",
            "|         Snacks|     49,356,008.36|\n",
            "|     Vegetables|     53,922,540.60|\n",
            "+---------------+------------------+\n",
            "\n"
          ]
        }
      ]
    },
    {
      "cell_type": "code",
      "source": [
        "total_Profit_by_product = df.groupBy(\"Item Type\") \\\n",
        "    .agg(format_number(sum(col(\"Total_Profit\")), 2).alias(\"Total_Profit_Cost\")) \\\n",
        "    .orderBy(\"Item Type\")\n",
        "\n",
        "total_Profit_by_product.show()"
      ],
      "metadata": {
        "colab": {
          "base_uri": "https://localhost:8080/"
        },
        "id": "TEVqlPjltI3c",
        "outputId": "ee3c48ad-a2e4-4e02-c472-ab00bfef671d"
      },
      "execution_count": null,
      "outputs": [
        {
          "output_type": "stream",
          "name": "stdout",
          "text": [
            "+---------------+-----------------+\n",
            "|      Item Type|Total_Profit_Cost|\n",
            "+---------------+-----------------+\n",
            "|      Baby Food|    29,435,258.36|\n",
            "|      Beverages|     8,565,639.00|\n",
            "|         Cereal|    28,009,589.64|\n",
            "|        Clothes|    20,597,924.92|\n",
            "|      Cosmetics|    50,428,833.18|\n",
            "|         Fruits|     7,368,526.84|\n",
            "|      Household|    29,894,674.93|\n",
            "|           Meat|    24,633,241.40|\n",
            "|Office Supplies|    45,445,154.56|\n",
            "|  Personal Care|    11,093,478.06|\n",
            "|         Snacks|    17,898,089.00|\n",
            "|     Vegetables|    21,730,816.14|\n",
            "+---------------+-----------------+\n",
            "\n"
          ]
        }
      ]
    },
    {
      "cell_type": "code",
      "source": [
        "df.write.csv(\"imputed_data.csv\", header=True)"
      ],
      "metadata": {
        "id": "FZ4Xs6jmbDP_"
      },
      "execution_count": null,
      "outputs": []
    },
    {
      "cell_type": "code",
      "source": [
        "spark.stop()"
      ],
      "metadata": {
        "id": "PsXoQ6GtbDVc"
      },
      "execution_count": null,
      "outputs": []
    },
    {
      "cell_type": "code",
      "source": [],
      "metadata": {
        "id": "16IwdjKibDYg"
      },
      "execution_count": null,
      "outputs": []
    }
  ]
}